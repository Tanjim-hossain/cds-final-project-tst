{
 "cells": [
  {
   "cell_type": "markdown",
   "id": "62ac5d01",
   "metadata": {},
   "source": [
    "## CONCEPT OF DATA SCIENCE \n",
    "## TERNARY SEARCH TREE IMPLIMENTATION PROJECT\n",
    "## LUCIA JANI 2470541\n",
    "## TANJIM HOSSAIN 24"
   ]
  },
  {
   "cell_type": "markdown",
   "id": "e7f18a08",
   "metadata": {},
   "source": [
    "# Ternary Search Tree Demo\n",
    "This notebook demonstrates how to use the Ternary Search Tree (TST)."
   ]
  },
  {
   "cell_type": "markdown",
   "id": "11ddd0e4",
   "metadata": {},
   "source": [
    "## Implementation\n",
    "The TST is composed of two classes: `TSTNode` for individual nodes and `TernarySearchTree` for the tree itself."
   ]
  },
  {
   "cell_type": "markdown",
   "id": "0a86e56a",
   "metadata": {},
   "source": [
    "# Ternary Search Tree - Jupyter Notebook Version"
   ]
  },
  {
   "cell_type": "code",
   "execution_count": 1,
   "id": "6dd64126",
   "metadata": {},
   "outputs": [],
   "source": [
    "class TSTNode:\n",
    "    __slots__ = ['char', 'left', 'mid', 'right', 'is_end']\n",
    "\n",
    "    def __init__(self, char):\n",
    "        self.char = char\n",
    "        self.left = None\n",
    "        self.mid = None\n",
    "        self.right = None\n",
    "        self.is_end = False\n"
   ]
  },
  {
   "cell_type": "markdown",
   "id": "cf4964e2",
   "metadata": {},
   "source": [
    "## Example Usage\n",
    " creating a TST and inserting some words into it."
   ]
  },
  {
   "cell_type": "code",
   "execution_count": 3,
   "id": "d031ad49",
   "metadata": {},
   "outputs": [],
   "source": [
    "class TernarySearchTree:\n",
    "    def __init__(self):\n",
    "        self.root = None\n",
    "\n",
    "    def insert(self, word):\n",
    "        if not word:\n",
    "            return\n",
    "        if not self.root:\n",
    "            self.root = TSTNode(word[0])\n",
    "        node = self.root\n",
    "        idx = 0\n",
    "        while True:\n",
    "            char = word[idx]\n",
    "            if char < node.char:\n",
    "                if not node.left:\n",
    "                    node.left = TSTNode(char)\n",
    "                node = node.left\n",
    "            elif char > node.char:\n",
    "                if not node.right:\n",
    "                    node.right = TSTNode(char)\n",
    "                node = node.right\n",
    "            else:\n",
    "                if idx == len(word) - 1:\n",
    "                    node.is_end = True\n",
    "                    return\n",
    "                if not node.mid:\n",
    "                    node.mid = TSTNode(word[idx + 1])\n",
    "                node = node.mid\n",
    "                idx += 1\n",
    "\n",
    "    def search(self, word):\n",
    "        if not word or not self.root:\n",
    "            return False\n",
    "        node = self.root\n",
    "        idx = 0\n",
    "        while node:\n",
    "            char = word[idx]\n",
    "            if char < node.char:\n",
    "                node = node.left\n",
    "            elif char > node.char:\n",
    "                node = node.right\n",
    "            else:\n",
    "                if idx == len(word) - 1:\n",
    "                    return node.is_end\n",
    "                node = node.mid\n",
    "                idx += 1\n",
    "        return False\n",
    "\n",
    "    def prefix_search(self, prefix):\n",
    "        results = []\n",
    "        def _collect(node, prefix_so_far):\n",
    "            if node is None:\n",
    "                return\n",
    "            if node.is_end:\n",
    "                results.append(prefix_so_far + node.char)\n",
    "            _collect(node.left, prefix_so_far)\n",
    "            _collect(node.mid, prefix_so_far + node.char)\n",
    "            _collect(node.right, prefix_so_far)\n",
    "        def _search_prefix(node, word, idx):\n",
    "            if node is None:\n",
    "                return None\n",
    "            char = word[idx]\n",
    "            if char < node.char:\n",
    "                return _search_prefix(node.left, word, idx)\n",
    "            elif char > node.char:\n",
    "                return _search_prefix(node.right, word, idx)\n",
    "            elif idx < len(word) - 1:\n",
    "                return _search_prefix(node.mid, word, idx + 1)\n",
    "            else:\n",
    "                return node\n",
    "        if not prefix:\n",
    "            return []\n",
    "        node = _search_prefix(self.root, prefix, 0)\n",
    "        if node is None:\n",
    "            return []\n",
    "        if node.is_end:\n",
    "            results.append(prefix)\n",
    "        _collect(node.mid, prefix)\n",
    "        return results\n",
    "\n",
    "    def count(self):\n",
    "        def _count(node):\n",
    "            if node is None:\n",
    "                return 0\n",
    "            cnt = 1 if node.is_end else 0\n",
    "            return cnt + _count(node.left) + _count(node.mid) + _count(node.right)\n",
    "        return _count(self.root)\n",
    "\n",
    "    def all_strings(self):\n",
    "        results = []\n",
    "        def _collect(node, path):\n",
    "            if node is None:\n",
    "                return\n",
    "            _collect(node.left, path)\n",
    "            new_path = path + node.char\n",
    "            if node.is_end:\n",
    "                results.append(new_path)\n",
    "            _collect(node.mid, new_path)\n",
    "            _collect(node.right, path)\n",
    "        _collect(self.root, \"\")\n",
    "        return results\n",
    "\n",
    "    def ascii_display(self):\n",
    "        def _display(node, indent=\"\", last='updown'):\n",
    "            if node is None:\n",
    "                return\n",
    "            if node.right:\n",
    "                _display(node.right, indent + \"     \", 'up')\n",
    "            if last == 'up':\n",
    "                print(indent + ' -----', end='')\n",
    "            elif last == 'down':\n",
    "                print(indent + ' -----', end='')\n",
    "            else:\n",
    "                print(indent + ' |-----', end='')\n",
    "            print(f\"[{node.char}]\" + (\"*\" if node.is_end else \"\"))\n",
    "            if node.mid:\n",
    "                _display(node.mid, indent + \" |    \", 'updown')\n",
    "            if node.left:\n",
    "                _display(node.left, indent + \"     \", 'down')\n",
    "        print(\"ASCII representation of TST:\")\n",
    "        _display(self.root)\n"
   ]
  },
  {
   "cell_type": "code",
   "execution_count": 4,
   "id": "fea4fcc1",
   "metadata": {},
   "outputs": [],
   "source": [
    "tst = TernarySearchTree()"
   ]
  },
  {
   "cell_type": "code",
   "execution_count": 5,
   "id": "b42da00d",
   "metadata": {},
   "outputs": [],
   "source": [
    "# Insert words into the tree\n",
    "words = ['cat', 'cap', 'bat', 'bar', 'bag', 'apple']\n",
    "for word in words:\n",
    "    tst.insert(word)\n"
   ]
  },
  {
   "cell_type": "markdown",
   "id": "64d83767",
   "metadata": {},
   "source": [
    "### Searching in the Tree"
   ]
  },
  {
   "cell_type": "code",
   "execution_count": 6,
   "id": "46be90cf",
   "metadata": {},
   "outputs": [
    {
     "name": "stdout",
     "output_type": "stream",
     "text": [
      "Search 'cat': True\n",
      "Search 'can': False\n"
     ]
    }
   ],
   "source": [
    "# Search examples\n",
    "print(\"Search 'cat':\", tst.search('cat'))\n",
    "print(\"Search 'can':\", tst.search('can'))\n"
   ]
  },
  {
   "cell_type": "markdown",
   "id": "db0563b2",
   "metadata": {},
   "source": [
    "### Prefix Search"
   ]
  },
  {
   "cell_type": "code",
   "execution_count": 7,
   "id": "c2d95faf",
   "metadata": {},
   "outputs": [
    {
     "name": "stdout",
     "output_type": "stream",
     "text": [
      "Prefix search for 'ba': ['bat', 'bar', 'bag']\n"
     ]
    }
   ],
   "source": [
    "# Prefix search example\n",
    "print(\"Prefix search for 'ba':\", tst.prefix_search('ba'))\n"
   ]
  },
  {
   "cell_type": "markdown",
   "id": "bf0dcbcc",
   "metadata": {},
   "source": [
    "### Count of Words Stored"
   ]
  },
  {
   "cell_type": "code",
   "execution_count": 8,
   "id": "2c95c6bb",
   "metadata": {},
   "outputs": [
    {
     "name": "stdout",
     "output_type": "stream",
     "text": [
      "Total words stored: 6\n"
     ]
    }
   ],
   "source": [
    "# Count of stored words\n",
    "print(\"Total words stored:\", tst.count())\n"
   ]
  },
  {
   "cell_type": "markdown",
   "id": "b60c92de",
   "metadata": {},
   "source": [
    "### Display All Strings"
   ]
  },
  {
   "cell_type": "code",
   "execution_count": 9,
   "id": "481898b9",
   "metadata": {},
   "outputs": [
    {
     "name": "stdout",
     "output_type": "stream",
     "text": [
      "All words in TST: ['apple', 'bag', 'bar', 'bat', 'cap', 'cat']\n"
     ]
    }
   ],
   "source": [
    "# Display all strings\n",
    "print(\"All words in TST:\", tst.all_strings())\n"
   ]
  },
  {
   "cell_type": "markdown",
   "id": "f329a20a",
   "metadata": {},
   "source": [
    "### ASCII Display"
   ]
  },
  {
   "cell_type": "code",
   "execution_count": 10,
   "id": "06ca1a20",
   "metadata": {},
   "outputs": [
    {
     "name": "stdout",
     "output_type": "stream",
     "text": [
      "ASCII representation of TST:\n",
      " |-----[c]\n",
      " |     |-----[a]\n",
      " |     |     |-----[t]*\n",
      " |     |          -----[p]*\n",
      "      -----[b]\n",
      "      |     |-----[a]\n",
      "      |     |     |-----[t]*\n",
      "      |     |          -----[r]*\n",
      "      |     |               -----[g]*\n",
      "           -----[a]\n",
      "           |     |-----[p]\n",
      "           |     |     |-----[p]\n",
      "           |     |     |     |-----[l]\n",
      "           |     |     |     |     |-----[e]*\n"
     ]
    }
   ],
   "source": [
    "# ASCII display of the TST\n",
    "tst.ascii_display()\n"
   ]
  },
  {
   "cell_type": "markdown",
   "id": "252597e8",
   "metadata": {},
   "source": [
    "# Benchmarking TST insert and search\n",
    "## Ternary Search Tree Benchmarking\n",
    "\n",
    "The following benchmarking code measures the performance of the Ternary Search Tree (TST) for both insertion and search operations using a large dataset of English words. It loads a word list, tests the TST with increasing numbers of words, and plots the time taken for both insert and search operations.\n",
    "\n",
    "**Benchmarking steps:**\n",
    "- Loads a large list of words from a file.\n",
    "- Benchmarks TST insertion and search for various dataset sizes.\n",
    "- Plots the total time for insert and search as the dataset grows.\n",
    "- Plots the average time per word for both operations.\n",
    "\n",
    "This helps visualize how the TST scales with input size and provides insight into its efficiency for large datasets."
   ]
  },
  {
   "cell_type": "code",
   "execution_count": null,
   "id": "9d4256d0",
   "metadata": {},
   "outputs": [],
   "source": [
    "import time\n",
    "import matplotlib.pyplot as plt\n",
    "from ternary_search_tree import TernarySearchTree"
   ]
  },
  {
   "cell_type": "markdown",
   "id": "dd874aa8",
   "metadata": {},
   "source": [
    "Set Data Path Cell"
   ]
  },
  {
   "cell_type": "code",
   "execution_count": null,
   "id": "a8022c99",
   "metadata": {},
   "outputs": [],
   "source": [
    "DATA_PATH = \"/Users/tanjimhossain/Documents/Concepts of Data Science/CDS_final-project/data/search_trees/\""
   ]
  },
  {
   "cell_type": "markdown",
   "id": "60e504ca",
   "metadata": {},
   "source": [
    "Load Words Cell"
   ]
  },
  {
   "cell_type": "code",
   "execution_count": null,
   "id": "c899c97e",
   "metadata": {},
   "outputs": [],
   "source": [
    "# Load a large list of words\n",
    "with open(DATA_PATH + \"corncob_lowercase.txt\") as f:\n",
    "    all_words = [line.strip() for line in f if line.strip()]"
   ]
  },
  {
   "cell_type": "markdown",
   "id": "2aa57b8d",
   "metadata": {},
   "source": [
    ". Benchmark Setup Cell"
   ]
  },
  {
   "cell_type": "code",
   "execution_count": null,
   "id": "012bc692",
   "metadata": {},
   "outputs": [],
   "source": [
    "# Choose different sizes for benchmarking\n",
    "sizes = [100, 500, 1000, 5000, 10000, 20000, 40000, 50000]\n",
    "insert_times = []\n",
    "search_times = []"
   ]
  },
  {
   "cell_type": "markdown",
   "id": "13ab8b25",
   "metadata": {},
   "source": [
    "Benchmark Loop Cell"
   ]
  },
  {
   "cell_type": "code",
   "execution_count": null,
   "id": "3a2c35ca",
   "metadata": {},
   "outputs": [],
   "source": [
    "for size in sizes:\n",
    "    print(f\"Benchmarking for size {size}...\")\n",
    "    words = all_words[:size]\n",
    "    tst = TernarySearchTree()\n",
    "    \n",
    "    # Time insertion\n",
    "    t0 = time.time()\n",
    "    for word in words:\n",
    "        tst.insert(word)\n",
    "    insert_times.append(time.time() - t0)\n",
    "    \n",
    "    # Time search\n",
    "    t0 = time.time()\n",
    "    for word in words:\n",
    "        tst.search(word)\n",
    "    search_times.append(time.time() - t0)"
   ]
  },
  {
   "cell_type": "markdown",
   "id": "74c29c57",
   "metadata": {},
   "source": [
    "Plot Total Time Cell"
   ]
  },
  {
   "cell_type": "code",
   "execution_count": null,
   "id": "1cf11496",
   "metadata": {},
   "outputs": [],
   "source": [
    "plt.figure(num=1, figsize=(8,5))\n",
    "plt.plot(sizes, insert_times, marker='o', label=\"Insert Time\")\n",
    "plt.plot(sizes, search_times, marker='o', label=\"Search Time\")\n",
    "plt.xlabel(\"Number of Words\")\n",
    "plt.ylabel(\"Time (seconds)\")\n",
    "plt.title(\"Ternary Search Tree Performance (Insert & Search)\")\n",
    "plt.legend()\n",
    "plt.grid(True)\n",
    "plt.tight_layout()\n",
    "plt.show()"
   ]
  },
  {
   "cell_type": "markdown",
   "id": "1c61980e",
   "metadata": {},
   "source": [
    " Plot Per-Word Time Cell"
   ]
  },
  {
   "cell_type": "code",
   "execution_count": null,
   "id": "0bb54fad",
   "metadata": {},
   "outputs": [],
   "source": [
    "per_word_insert = [t/s for t,s in zip(insert_times, sizes)]\n",
    "per_word_search = [t/s for t,s in zip(search_times, sizes)]\n",
    "x = range(len(sizes))\n",
    "width = 0.35\n",
    "plt.figure(num=2, figsize=(6,4))\n",
    "plt.bar(x, per_word_insert, width, label=\"Insert per Word\")\n",
    "plt.bar([i+width for i in x], per_word_search, width, label=\"Search per Word\")\n",
    "plt.xticks([i+width/2 for i in x], sizes, rotation=45)\n",
    "plt.xlabel(\"Number of Words\")\n",
    "plt.ylabel(\"Time per Word (s)\")\n",
    "plt.title(\"Average Time per Word\")\n",
    "plt.legend()\n",
    "plt.tight_layout()\n",
    "plt.show()"
   ]
  }
 ],
 "metadata": {
  "kernelspec": {
   "display_name": "Python 3",
   "language": "python",
   "name": "python3"
  },
  "language_info": {
   "codemirror_mode": {
    "name": "ipython",
    "version": 3
   },
   "file_extension": ".py",
   "mimetype": "text/x-python",
   "name": "python",
   "nbconvert_exporter": "python",
   "pygments_lexer": "ipython3",
   "version": "3.13.3"
  }
 },
 "nbformat": 4,
 "nbformat_minor": 5
}
