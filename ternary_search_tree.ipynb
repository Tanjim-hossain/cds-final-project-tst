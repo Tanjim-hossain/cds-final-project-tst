{
 "cells": [
  {
   "cell_type": "markdown",
   "id": "62ac5d01",
   "metadata": {},
   "source": [
    "## CONCEPT OF DATA SCIENCE \n",
    "## TERNARY SEARCH TREE IMPLIMENTATION PROJECT\n",
    "## LUCIA JANI 2470541\n",
    "## TANJIM HOSSAIN 2469700"
   ]
  },
  {
   "cell_type": "markdown",
   "id": "e7f18a08",
   "metadata": {},
   "source": [
    "# Ternary Search Tree Demo\n",
    "This notebook demonstrates how to use the Ternary Search Tree (TST)."
   ]
  },
  {
   "cell_type": "markdown",
   "id": "11ddd0e4",
   "metadata": {},
   "source": [
    "## Implementation\n",
    "The TST is composed of two classes: `TSTNode` for individual nodes and `TernarySearchTree` for the tree itself."
   ]
  },
  {
   "cell_type": "markdown",
   "id": "0a86e56a",
   "metadata": {},
   "source": [
    "# Ternary Search Tree - Jupyter Notebook Version"
   ]
  },
  {
   "cell_type": "code",
   "execution_count": 40,
   "id": "6dd64126",
   "metadata": {},
   "outputs": [],
   "source": [
    "from ternary_search_tree import TernarySearchTree\n"
   ]
  },
  {
   "cell_type": "markdown",
   "id": "cf4964e2",
   "metadata": {},
   "source": [
    "## Example Usage\n",
    " creating a TST and inserting some words into it."
   ]
  },
  {
   "cell_type": "code",
   "execution_count": 31,
   "id": "d031ad49",
   "metadata": {},
   "outputs": [
    {
     "name": "stdout",
     "output_type": "stream",
     "text": [
      "Benchmarking for size 100...\n",
      "Insert time for 100: 0.0001 sec\n",
      "Search time for 100: 0.0001 sec\n",
      "Benchmarking for size 500...\n",
      "Insert time for 500: 0.0008 sec\n",
      "Search time for 500: 0.0006 sec\n",
      "Benchmarking for size 1000...\n",
      "Insert time for 1000: 0.0021 sec\n",
      "Search time for 1000: 0.0013 sec\n",
      "Benchmarking for size 5000...\n",
      "Insert time for 5000: 0.0102 sec\n",
      "Search time for 5000: 0.0069 sec\n",
      "Benchmarking for size 10000...\n",
      "Insert time for 10000: 0.0171 sec\n",
      "Search time for 10000: 0.0113 sec\n",
      "Benchmarking for size 20000...\n",
      "Insert time for 20000: 0.0315 sec\n",
      "Search time for 20000: 0.0242 sec\n",
      "Benchmarking for size 40000...\n",
      "Insert time for 40000: 0.1192 sec\n",
      "Search time for 40000: 0.0505 sec\n",
      "Benchmarking for size 50000...\n",
      "Insert time for 50000: 0.0919 sec\n",
      "Search time for 50000: 0.0667 sec\n",
      "\n",
      "==== Benchmark completed ====\n",
      "Total runtime: 0.45 seconds\n",
      "Insert times (s): [0.00014400482177734375, 0.0008480548858642578, 0.002122163772583008, 0.010172128677368164, 0.01713109016418457, 0.03152012825012207, 0.11922693252563477, 0.09187817573547363]\n",
      "Search times (s): [0.00010204315185546875, 0.000637054443359375, 0.0013041496276855469, 0.006946086883544922, 0.011305093765258789, 0.024241924285888672, 0.050523996353149414, 0.06671619415283203]\n"
     ]
    }
   ],
   "source": [
    "import time\n",
    "import os\n",
    "import matplotlib.pyplot as plt\n",
    "\n",
    "# Set up DATA_PATH for portability\n",
    "DATA_PATH = os.path.join(\"data\", \"search_trees\")\n",
    "\n",
    "# Load dataset\n",
    "with open(os.path.join(DATA_PATH, \"corncob_lowercase.txt\")) as f:\n",
    "    all_words = [line.strip() for line in f if line.strip()]\n",
    "\n",
    "sizes = [100, 500, 1000, 5000, 10000, 20000, 40000, 50000]\n",
    "insert_times = []\n",
    "search_times = []\n",
    "\n",
    "overall_start = time.time()\n",
    "\n",
    "for size in sizes:\n",
    "    print(f\"Benchmarking for size {size}...\", flush=True)\n",
    "    words = all_words[:size]\n",
    "    tst = TernarySearchTree()\n",
    "    # Insert timing\n",
    "    t0 = time.time()\n",
    "    for word in words:\n",
    "        tst.insert(word)\n",
    "    t_insert = time.time() - t0\n",
    "    insert_times.append(t_insert)\n",
    "    print(f\"Insert time for {size}: {t_insert:.4f} sec\", flush=True)\n",
    "    # Search timing\n",
    "    t0 = time.time()\n",
    "    for word in words:\n",
    "        tst.search(word)\n",
    "    t_search = time.time() - t0\n",
    "    search_times.append(t_search)\n",
    "    print(f\"Search time for {size}: {t_search:.4f} sec\", flush=True)\n",
    "\n",
    "overall_end = time.time()\n",
    "\n",
    "print(f\"\\n==== Benchmark completed ====\", flush=True)\n",
    "print(f\"Total runtime: {overall_end - overall_start:.2f} seconds\", flush=True)\n",
    "print(f\"Insert times (s): {insert_times}\", flush=True)\n",
    "print(f\"Search times (s): {search_times}\", flush=True)\n"
   ]
  },
  {
   "cell_type": "code",
   "execution_count": 7,
   "id": "fea4fcc1",
   "metadata": {},
   "outputs": [],
   "source": [
    "tst = TernarySearchTree()"
   ]
  },
  {
   "cell_type": "code",
   "execution_count": 8,
   "id": "b42da00d",
   "metadata": {},
   "outputs": [],
   "source": [
    "# Insert words into the tree\n",
    "words = ['cat', 'cap', 'bat', 'bar', 'bag', 'apple']\n",
    "for word in words:\n",
    "    tst.insert(word)\n"
   ]
  },
  {
   "cell_type": "markdown",
   "id": "64d83767",
   "metadata": {},
   "source": [
    "### Searching in the Tree"
   ]
  },
  {
   "cell_type": "code",
   "execution_count": 9,
   "id": "46be90cf",
   "metadata": {},
   "outputs": [
    {
     "name": "stdout",
     "output_type": "stream",
     "text": [
      "Search 'cat': True\n",
      "Search 'can': False\n"
     ]
    }
   ],
   "source": [
    "# Search examples\n",
    "print(\"Search 'cat':\", tst.search('cat'))\n",
    "print(\"Search 'can':\", tst.search('can'))\n"
   ]
  },
  {
   "cell_type": "markdown",
   "id": "db0563b2",
   "metadata": {},
   "source": [
    "### Prefix Search"
   ]
  },
  {
   "cell_type": "code",
   "execution_count": 10,
   "id": "c2d95faf",
   "metadata": {},
   "outputs": [
    {
     "name": "stdout",
     "output_type": "stream",
     "text": [
      "Prefix search for 'ba': ['bat', 'bar', 'bag']\n"
     ]
    }
   ],
   "source": [
    "# Prefix search example\n",
    "print(\"Prefix search for 'ba':\", tst.prefix_search('ba'))\n"
   ]
  },
  {
   "cell_type": "markdown",
   "id": "bf0dcbcc",
   "metadata": {},
   "source": [
    "### Count of Words Stored"
   ]
  },
  {
   "cell_type": "code",
   "execution_count": 11,
   "id": "2c95c6bb",
   "metadata": {},
   "outputs": [
    {
     "name": "stdout",
     "output_type": "stream",
     "text": [
      "Total words stored: 6\n"
     ]
    }
   ],
   "source": [
    "# Count of stored words\n",
    "print(\"Total words stored:\", tst.count())\n"
   ]
  },
  {
   "cell_type": "markdown",
   "id": "b60c92de",
   "metadata": {},
   "source": [
    "### Display All Strings"
   ]
  },
  {
   "cell_type": "code",
   "execution_count": 12,
   "id": "481898b9",
   "metadata": {},
   "outputs": [
    {
     "name": "stdout",
     "output_type": "stream",
     "text": [
      "All words in TST: ['apple', 'bag', 'bar', 'bat', 'cap', 'cat']\n"
     ]
    }
   ],
   "source": [
    "# Display all strings\n",
    "print(\"All words in TST:\", tst.all_strings())\n"
   ]
  },
  {
   "cell_type": "markdown",
   "id": "f329a20a",
   "metadata": {},
   "source": [
    "### ASCII Display"
   ]
  },
  {
   "cell_type": "code",
   "execution_count": 13,
   "id": "06ca1a20",
   "metadata": {},
   "outputs": [
    {
     "name": "stdout",
     "output_type": "stream",
     "text": [
      "ASCII representation of TST:\n",
      " |-----[c]\n",
      " |     |-----[a]\n",
      " |     |     |-----[t]*\n",
      " |     |          -----[p]*\n",
      "      -----[b]\n",
      "      |     |-----[a]\n",
      "      |     |     |-----[t]*\n",
      "      |     |          -----[r]*\n",
      "      |     |               -----[g]*\n",
      "           -----[a]\n",
      "           |     |-----[p]\n",
      "           |     |     |-----[p]\n",
      "           |     |     |     |-----[l]\n",
      "           |     |     |     |     |-----[e]*\n"
     ]
    }
   ],
   "source": [
    "# ASCII display of the TST\n",
    "tst.ascii_display()\n"
   ]
  },
  {
   "cell_type": "markdown",
   "id": "252597e8",
   "metadata": {},
   "source": [
    "# Benchmarking TST insert and search\n",
    "## Ternary Search Tree Benchmarking\n",
    "\n",
    "The following benchmarking code measures the performance of the Ternary Search Tree (TST) for both insertion and search operations using a large dataset of English words. It loads a word list, tests the TST with increasing numbers of words, and plots the time taken for both insert and search operations.\n",
    "\n",
    "**Benchmarking steps:**\n",
    "- Loads a large list of words from a file.\n",
    "- Benchmarks TST insertion and search for various dataset sizes.\n",
    "- Plots the total time for insert and search as the dataset grows.\n",
    "- Plots the average time per word for both operations.\n",
    "\n",
    "This helps visualize how the TST scales with input size and provides insight into its efficiency for large datasets."
   ]
  },
  {
   "cell_type": "code",
   "execution_count": 48,
   "id": "9d4256d0",
   "metadata": {},
   "outputs": [],
   "source": [
    "import time\n",
    "import matplotlib.pyplot as plt\n",
    "from ternary_search_tree import TernarySearchTree"
   ]
  },
  {
   "cell_type": "markdown",
   "id": "dd874aa8",
   "metadata": {},
   "source": [
    "Set Data Path Cell"
   ]
  },
  {
   "cell_type": "code",
   "execution_count": 50,
   "id": "a8022c99",
   "metadata": {},
   "outputs": [],
   "source": [
    "DATA_PATH = \"/Users/tanjimhossain/Documents/Concepts of Data Science/CDS_final-project/data/search_trees/\""
   ]
  },
  {
   "cell_type": "markdown",
   "id": "60e504ca",
   "metadata": {},
   "source": [
    "Load Words Cell"
   ]
  },
  {
   "cell_type": "code",
   "execution_count": 51,
   "id": "c899c97e",
   "metadata": {},
   "outputs": [],
   "source": [
    "# Load a large list of words\n",
    "with open(DATA_PATH + \"corncob_lowercase.txt\") as f:\n",
    "    all_words = [line.strip() for line in f if line.strip()]"
   ]
  },
  {
   "cell_type": "markdown",
   "id": "2aa57b8d",
   "metadata": {},
   "source": [
    ". Benchmark Setup Cell"
   ]
  },
  {
   "cell_type": "code",
   "execution_count": 52,
   "id": "012bc692",
   "metadata": {},
   "outputs": [],
   "source": [
    "# Choose different sizes for benchmarking\n",
    "sizes = [100, 500, 1000, 5000, 10000, 20000, 40000, 50000]\n",
    "insert_times = []\n",
    "search_times = []"
   ]
  },
  {
   "cell_type": "markdown",
   "id": "13ab8b25",
   "metadata": {},
   "source": [
    "Benchmark Loop Cell"
   ]
  },
  {
   "cell_type": "code",
   "execution_count": 64,
   "id": "3a2c35ca",
   "metadata": {},
   "outputs": [
    {
     "name": "stdout",
     "output_type": "stream",
     "text": [
      "Benchmarking for size 100...\n",
      "Insert time for 100: 0.0002 sec\n",
      "Search time for 100: 0.0002 sec\n",
      "Benchmarking for size 500...\n",
      "Insert time for 500: 0.0009 sec\n",
      "Search time for 500: 0.0007 sec\n",
      "Benchmarking for size 1000...\n",
      "Insert time for 1000: 0.0024 sec\n",
      "Search time for 1000: 0.0013 sec\n",
      "Benchmarking for size 5000...\n",
      "Insert time for 5000: 0.0110 sec\n",
      "Search time for 5000: 0.0070 sec\n",
      "Benchmarking for size 10000...\n",
      "Insert time for 10000: 0.0179 sec\n",
      "Search time for 10000: 0.0118 sec\n",
      "Benchmarking for size 20000...\n",
      "Insert time for 20000: 0.0328 sec\n",
      "Search time for 20000: 0.0233 sec\n",
      "Benchmarking for size 40000...\n",
      "Insert time for 40000: 0.1056 sec\n",
      "Search time for 40000: 0.0506 sec\n",
      "Benchmarking for size 50000...\n",
      "Insert time for 50000: 0.0902 sec\n",
      "Search time for 50000: 0.0662 sec\n",
      "\n",
      "==== Benchmark completed ====\n",
      "Total runtime: 0.44 seconds\n",
      "Insert times (s): [0.00020813941955566406, 0.0009441375732421875, 0.0023970603942871094, 0.01100611686706543, 0.017920970916748047, 0.03277921676635742, 0.10557389259338379, 0.0901801586151123]\n",
      "Search times (s): [0.00015091896057128906, 0.0007097721099853516, 0.001322031021118164, 0.006964921951293945, 0.011797904968261719, 0.023298025131225586, 0.05057692527770996, 0.0662078857421875]\n"
     ]
    }
   ],
   "source": [
    "import time\n",
    "import os\n",
    "import matplotlib.pyplot as plt\n",
    "\n",
    "# Set up DATA_PATH for portability\n",
    "DATA_PATH = os.path.join(\"data\", \"search_trees\")\n",
    "\n",
    "# Load dataset\n",
    "with open(os.path.join(DATA_PATH, \"corncob_lowercase.txt\")) as f:\n",
    "    all_words = [line.strip() for line in f if line.strip()]\n",
    "\n",
    "sizes = [100, 500, 1000, 5000, 10000, 20000, 40000, 50000]\n",
    "insert_times = []\n",
    "search_times = []\n",
    "\n",
    "overall_start = time.time()\n",
    "\n",
    "for size in sizes:\n",
    "    print(f\"Benchmarking for size {size}...\", flush=True)\n",
    "    words = all_words[:size]\n",
    "    tst = TernarySearchTree()\n",
    "    # Insert timing\n",
    "    t0 = time.time()\n",
    "    for word in words:\n",
    "        tst.insert(word)\n",
    "    t_insert = time.time() - t0\n",
    "    insert_times.append(t_insert)\n",
    "    print(f\"Insert time for {size}: {t_insert:.4f} sec\", flush=True)\n",
    "    # Search timing\n",
    "    t0 = time.time()\n",
    "    for word in words:\n",
    "        tst.search(word)\n",
    "    t_search = time.time() - t0\n",
    "    search_times.append(t_search)\n",
    "    print(f\"Search time for {size}: {t_search:.4f} sec\", flush=True)\n",
    "\n",
    "overall_end = time.time()\n",
    "\n",
    "print(f\"\\n==== Benchmark completed ====\", flush=True)\n",
    "print(f\"Total runtime: {overall_end - overall_start:.2f} seconds\", flush=True)\n",
    "print(f\"Insert times (s): {insert_times}\", flush=True)\n",
    "print(f\"Search times (s): {search_times}\", flush=True)"
   ]
  },
  {
   "cell_type": "markdown",
   "id": "74c29c57",
   "metadata": {},
   "source": [
    "Insert/Search Time vs. Number of Words"
   ]
  },
  {
   "cell_type": "code",
   "execution_count": 67,
   "id": "1cf11496",
   "metadata": {},
   "outputs": [
    {
     "data": {
      "image/png": "[encoded data removed]",
      "text/plain": [
       "<Figure size 800x500 with 1 Axes>"
      ]
     },
     "metadata": {},
     "output_type": "display_data"
    }
   ],
   "source": [
    "plt.figure(figsize=(8,5))\n",
    "plt.plot(sizes, insert_times, marker='o', label=\"Insert Time\")\n",
    "plt.plot(sizes, search_times, marker='o', label=\"Search Time\")\n",
    "plt.xlabel(\"Number of Words\")\n",
    "plt.ylabel(\"Time (seconds)\")\n",
    "plt.title(\"Insert/Search Time vs. Number of Words\")\n",
    "plt.legend()\n",
    "plt.grid(True)\n",
    "plt.tight_layout()\n",
    "plt.savefig(\"TST_total_time.png\")\n",
    "plt.show()"
   ]
  },
  {
   "cell_type": "markdown",
   "id": "1c61980e",
   "metadata": {},
   "source": [
    "Average Time per Word vs. Number of Words"
   ]
  },
  {
   "cell_type": "code",
   "execution_count": 68,
   "id": "0bb54fad",
   "metadata": {},
   "outputs": [
    {
     "data": {
      "image/png": "[encoded data removed]",
      "text/plain": [
       "<Figure size 600x400 with 1 Axes>"
      ]
     },
     "metadata": {},
     "output_type": "display_data"
    },
    {
     "name": "stdout",
     "output_type": "stream",
     "text": [
      "PNG plots saved in: /Users/tanjimhossain/Documents/Concepts of Data Science/cds-final-project-tst\n"
     ]
    }
   ],
   "source": [
    "per_word_insert = [t/s for t,s in zip(insert_times, sizes)]\n",
    "per_word_search = [t/s for t,s in zip(search_times, sizes)]\n",
    "x = range(len(sizes))\n",
    "width = 0.35\n",
    "plt.figure(figsize=(6,4))\n",
    "plt.bar(x, per_word_insert, width, label=\"Insert per Word\")\n",
    "plt.bar([i+width for i in x], per_word_search, width, label=\"Search per Word\")\n",
    "plt.xticks([i+width/2 for i in x], sizes, rotation=45)\n",
    "plt.xlabel(\"Number of Words\")\n",
    "plt.ylabel(\"Time per Word (s)\")\n",
    "plt.title(\"Average Time per Word vs. Number of Words\")\n",
    "plt.legend()\n",
    "plt.tight_layout()\n",
    "plt.savefig(\"TST_avg_time.png\")\n",
    "plt.show()\n",
    "print(\"PNG plots saved in:\", os.getcwd())"
   ]
  }
 ],
 "metadata": {
  "kernelspec": {
   "display_name": "Python 3",
   "language": "python",
   "name": "python3"
  },
  "language_info": {
   "codemirror_mode": {
    "name": "ipython",
    "version": 3
   },
   "file_extension": ".py",
   "mimetype": "text/x-python",
   "name": "python",
   "nbconvert_exporter": "python",
   "pygments_lexer": "ipython3",
   "version": "3.13.2"
  }
 },
 "nbformat": 4,
 "nbformat_minor": 5
}
